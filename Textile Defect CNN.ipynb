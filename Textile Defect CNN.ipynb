{
 "cells": [
  {
   "cell_type": "code",
   "execution_count": 1,
   "id": "4517acc7",
   "metadata": {},
   "outputs": [],
   "source": [
    "import os\n",
    "import pandas as pd\n",
    "import numpy as np\n",
    "import matplotlib.pyplot as plt\n",
    "from sklearn.model_selection import train_test_split\n",
    "from sklearn.metrics import classification_report, confusion_matrix, accuracy_score, f1_score\n",
    "import seaborn as sns\n",
    "from tensorflow.keras.preprocessing.image import ImageDataGenerator\n",
    "from tensorflow.keras.applications import ResNet50, InceptionV3\n",
    "from tensorflow.keras.layers import Conv2D, MaxPooling2D, Flatten, Dense, Dropout, InputLayer\n",
    "from tensorflow.keras.models import Model, Sequential\n",
    "from tensorflow.keras.optimizers import Adam"
   ]
  },
  {
   "cell_type": "code",
   "execution_count": 2,
   "id": "128cae4c",
   "metadata": {},
   "outputs": [],
   "source": [
    "# Set dataset path and categories\n",
    "dataset_path = r\"E:\\Textile Defect\\junk\\fabric defect\\Data Set\"\n",
    "categories = [\"Hole\", \"Horizontal Line\", \"Isolated Defect\", \"Needle Lines\", \"Vertical Line\"]"
   ]
  },
  {
   "cell_type": "code",
   "execution_count": 3,
   "id": "d975efb1",
   "metadata": {},
   "outputs": [
    {
     "name": "stdout",
     "output_type": "stream",
     "text": [
      "Found 468 images belonging to 5 classes.\n",
      "Found 198 images belonging to 5 classes.\n"
     ]
    }
   ],
   "source": [
    "# Load and preprocess data\n",
    "# data_generator = ImageDataGenerator(\n",
    "#     rescale=1./255,\n",
    "#     validation_split=0.3,\n",
    "#     rotation_range=20,\n",
    "#     width_shift_range=0.2,\n",
    "#     height_shift_range=0.2,\n",
    "#     shear_range=0.2,\n",
    "#     zoom_range=0.2,\n",
    "#     horizontal_flip=True,\n",
    "#     fill_mode='nearest'\n",
    "# )\n",
    "\n",
    "# Data augmentation and preprocessing\n",
    "data_generator = ImageDataGenerator(\n",
    "    rescale=1./255,\n",
    "    validation_split=0.3,\n",
    "    rotation_range=20,\n",
    "    width_shift_range=0.2,\n",
    "    height_shift_range=0.2,\n",
    "    shear_range=0.2,\n",
    "    zoom_range=0.2,\n",
    "    horizontal_flip=True,\n",
    "    vertical_flip=True,  # Added vertical_flip\n",
    "    brightness_range=[0.8, 1.2],  # Added brightness_range\n",
    "    channel_shift_range=0.2,  # Added channel_shift_range\n",
    "    fill_mode='nearest'\n",
    ")\n",
    "\n",
    "train_data = data_generator.flow_from_directory(dataset_path, target_size=(224, 224), classes=categories, subset=\"training\")\n",
    "val_data = data_generator.flow_from_directory(dataset_path, target_size=(224, 224), classes=categories, subset=\"validation\")"
   ]
  },
  {
   "cell_type": "code",
   "execution_count": 4,
   "id": "f6137205",
   "metadata": {},
   "outputs": [],
   "source": [
    "# Model architecture\n",
    "def create_cnn_model():\n",
    "    model = Sequential([\n",
    "        Conv2D(32, kernel_size=(3, 3), activation='relu', input_shape=(224, 224, 3)),\n",
    "        MaxPooling2D(pool_size=(2, 2)),\n",
    "        Conv2D(64, kernel_size=(3, 3), activation='relu'),\n",
    "        MaxPooling2D(pool_size=(2, 2)),\n",
    "        Conv2D(128, kernel_size=(3, 3), activation='relu'),  # Added extra Conv2D layer\n",
    "        MaxPooling2D(pool_size=(2, 2)),\n",
    "        Flatten(),\n",
    "        Dense(256, activation='relu'),  # Increased number of neurons\n",
    "        Dropout(0.5),\n",
    "        Dense(5, activation='softmax')\n",
    "    ])\n",
    "    model.compile(optimizer=Adam(learning_rate=0.0001), loss='categorical_crossentropy', metrics=['accuracy'])  # Adjusted learning rate\n",
    "    return model\n"
   ]
  },
  {
   "cell_type": "code",
   "execution_count": 5,
   "id": "09fcf782",
   "metadata": {},
   "outputs": [],
   "source": [
    "def create_resnet_model():\n",
    "    base_model = ResNet50(weights='imagenet', include_top=False, input_shape=(224, 224, 3))\n",
    "    x = base_model.output\n",
    "    x = Flatten()(x)\n",
    "    x = Dense(128, activation='relu')(x)\n",
    "    x = Dropout(0.5)(x)\n",
    "    predictions = Dense(5, activation='softmax')(x)\n",
    "    model = Model(inputs=base_model.input, outputs=predictions)\n",
    "    model.compile(optimizer=Adam(learning_rate=0.001), loss='categorical_crossentropy', metrics=['accuracy'])\n",
    "    return model"
   ]
  },
  {
   "cell_type": "code",
   "execution_count": 6,
   "id": "19da028e",
   "metadata": {},
   "outputs": [],
   "source": [
    "def create_inception_model():\n",
    "    base_model = InceptionV3(weights='imagenet', include_top=False, input_shape=(224, 224, 3))\n",
    "    x = base_model.output\n",
    "    x = Flatten()(x)\n",
    "    x = Dense(128, activation='relu')(x)\n",
    "    x = Dropout(0.5)(x)\n",
    "    predictions = Dense(5, activation='softmax')(x)\n",
    "    model = Model(inputs=base_model.input, outputs=predictions)\n",
    "    model.compile(optimizer=Adam(learning_rate=0.001), loss='categorical_crossentropy', metrics=['accuracy'])\n",
    "    return model"
   ]
  },
  {
   "cell_type": "code",
   "execution_count": 7,
   "id": "1de32450",
   "metadata": {},
   "outputs": [],
   "source": [
    "def unfreeze_layers(model, num_unfrozen_layers):\n",
    "    for layer in model.layers[:-num_unfrozen_layers]:\n",
    "        layer.trainable = False\n",
    "    for layer in model.layers[-num_unfrozen_layers:]:\n",
    "        layer.trainable = True\n",
    "\n",
    "def create_resnet_model():\n",
    "    base_model = ResNet50(weights='imagenet', include_top=False, input_shape=(224, 224, 3))\n",
    "    unfreeze_layers(base_model, 10)\n",
    "    x = base_model.output\n",
    "    x = Flatten()(x)\n",
    "    x = Dense(128, activation='relu')(x)\n",
    "    x = Dropout(0.5)(x)\n",
    "    predictions = Dense(5, activation='softmax')(x)\n",
    "    model = Model(inputs=base_model.input, outputs=predictions)\n",
    "    model.compile(optimizer=Adam(learning_rate=0.001), loss='categorical_crossentropy', metrics=['accuracy'])\n",
    "    return model\n",
    "\n",
    "def create_inception_model():\n",
    "    base_model = InceptionV3(weights='imagenet', include_top=False, input_shape=(224, 224, 3))\n",
    "    unfreeze_layers(base_model, 10)\n",
    "    x = base_model.output\n",
    "    x = Flatten()(x)\n",
    "    x = Dense(128, activation='relu')(x)\n",
    "    x = Dropout(0.5)(x)\n",
    "    predictions = Dense(5, activation='softmax')(x)\n",
    "    model = Model(inputs=base_model.input, outputs=predictions)\n",
    "    model.compile(optimizer=Adam(learning_rate=0.001), loss='categorical_crossentropy', metrics=['accuracy'])\n",
    "    return model\n"
   ]
  },
  {
   "cell_type": "code",
   "execution_count": 8,
   "id": "bc3561f5",
   "metadata": {},
   "outputs": [],
   "source": [
    "# Train and evaluate models\n",
    "models = {\n",
    "    \"CNN\": create_cnn_model(),\n",
    "    \"ResNet50\": create_resnet_model(),\n",
    "    \"InceptionV3\": create_inception_model()\n",
    "}"
   ]
  },
  {
   "cell_type": "code",
   "execution_count": 9,
   "id": "7481e386",
   "metadata": {},
   "outputs": [],
   "source": [
    "# Training with callbacks\n",
    "from tensorflow.keras.callbacks import EarlyStopping, ModelCheckpoint\n",
    "\n",
    "early_stopping = EarlyStopping(monitor='val_accuracy', patience=5, restore_best_weights=True)\n",
    "model_checkpoint = ModelCheckpoint('best_model.h5', monitor='val_accuracy', save_best_only=True)\n"
   ]
  },
  {
   "cell_type": "code",
   "execution_count": 10,
   "id": "f249a367",
   "metadata": {},
   "outputs": [
    {
     "name": "stdout",
     "output_type": "stream",
     "text": [
      "Training CNN...\n",
      "Epoch 1/15\n",
      "15/15 [==============================] - 232s 15s/step - loss: 1.5048 - accuracy: 0.3098 - val_loss: 1.3795 - val_accuracy: 0.4192\n",
      "Epoch 2/15\n",
      "15/15 [==============================] - 202s 14s/step - loss: 1.3017 - accuracy: 0.4744 - val_loss: 1.2008 - val_accuracy: 0.4798\n",
      "Epoch 3/15\n",
      "15/15 [==============================] - 206s 14s/step - loss: 1.1323 - accuracy: 0.5256 - val_loss: 1.0748 - val_accuracy: 0.5657\n",
      "Epoch 4/15\n",
      "15/15 [==============================] - 195s 13s/step - loss: 1.0684 - accuracy: 0.5321 - val_loss: 1.0383 - val_accuracy: 0.5707\n",
      "Epoch 5/15\n",
      "15/15 [==============================] - 185s 12s/step - loss: 1.0008 - accuracy: 0.5256 - val_loss: 1.0497 - val_accuracy: 0.5404\n",
      "Epoch 6/15\n",
      "15/15 [==============================] - 187s 12s/step - loss: 0.9811 - accuracy: 0.5833 - val_loss: 1.0090 - val_accuracy: 0.5404\n",
      "Epoch 7/15\n",
      "15/15 [==============================] - 188s 13s/step - loss: 0.9856 - accuracy: 0.5449 - val_loss: 0.9798 - val_accuracy: 0.5202\n",
      "Epoch 8/15\n",
      "15/15 [==============================] - 189s 13s/step - loss: 0.9477 - accuracy: 0.5598 - val_loss: 1.0368 - val_accuracy: 0.5960\n",
      "Epoch 9/15\n",
      "15/15 [==============================] - 193s 13s/step - loss: 0.9375 - accuracy: 0.5791 - val_loss: 0.9837 - val_accuracy: 0.6010\n",
      "Epoch 10/15\n",
      "15/15 [==============================] - 190s 13s/step - loss: 0.9347 - accuracy: 0.5833 - val_loss: 0.9920 - val_accuracy: 0.5303\n",
      "Epoch 11/15\n",
      "15/15 [==============================] - 207s 14s/step - loss: 0.9211 - accuracy: 0.5791 - val_loss: 0.9834 - val_accuracy: 0.5455\n",
      "Epoch 12/15\n",
      "15/15 [==============================] - 192s 13s/step - loss: 0.9119 - accuracy: 0.5726 - val_loss: 0.9829 - val_accuracy: 0.5404\n",
      "Epoch 13/15\n",
      "15/15 [==============================] - 185s 12s/step - loss: 0.8732 - accuracy: 0.5833 - val_loss: 1.0061 - val_accuracy: 0.5808\n",
      "Epoch 14/15\n",
      "15/15 [==============================] - 186s 12s/step - loss: 0.8822 - accuracy: 0.5876 - val_loss: 1.0049 - val_accuracy: 0.5657\n",
      "Training ResNet50...\n",
      "Epoch 1/15\n",
      "15/15 [==============================] - 468s 31s/step - loss: 6.0062 - accuracy: 0.1795 - val_loss: 4.3904 - val_accuracy: 0.1313\n",
      "Epoch 2/15\n",
      "15/15 [==============================] - 438s 30s/step - loss: 1.6022 - accuracy: 0.2286 - val_loss: 8.1309 - val_accuracy: 0.1717\n",
      "Epoch 3/15\n",
      "15/15 [==============================] - 442s 30s/step - loss: 1.6599 - accuracy: 0.2607 - val_loss: 15.5787 - val_accuracy: 0.2020\n",
      "Epoch 4/15\n",
      "15/15 [==============================] - 437s 29s/step - loss: 1.6413 - accuracy: 0.2543 - val_loss: 15.3068 - val_accuracy: 0.2020\n",
      "Epoch 5/15\n",
      "15/15 [==============================] - 437s 30s/step - loss: 1.7227 - accuracy: 0.2799 - val_loss: 4.6183 - val_accuracy: 0.2020\n",
      "Epoch 6/15\n",
      "15/15 [==============================] - 435s 29s/step - loss: 1.6016 - accuracy: 0.2756 - val_loss: 2.8765 - val_accuracy: 0.2020\n",
      "Epoch 7/15\n",
      "15/15 [==============================] - 437s 30s/step - loss: 1.5965 - accuracy: 0.2778 - val_loss: 2.4410 - val_accuracy: 0.2020\n",
      "Epoch 8/15\n",
      "15/15 [==============================] - 435s 29s/step - loss: 1.5664 - accuracy: 0.2949 - val_loss: 6.7534 - val_accuracy: 0.1364\n",
      "Training InceptionV3...\n",
      "Epoch 1/15\n",
      "15/15 [==============================] - 294s 19s/step - loss: 7.8275 - accuracy: 0.4679 - val_loss: 2.4553 - val_accuracy: 0.6212\n",
      "Epoch 2/15\n",
      "15/15 [==============================] - 265s 18s/step - loss: 1.7642 - accuracy: 0.5534 - val_loss: 0.9775 - val_accuracy: 0.5404\n",
      "Epoch 3/15\n",
      "15/15 [==============================] - 265s 18s/step - loss: 1.0627 - accuracy: 0.5321 - val_loss: 0.9012 - val_accuracy: 0.6010\n",
      "Epoch 4/15\n",
      "15/15 [==============================] - 268s 18s/step - loss: 1.0161 - accuracy: 0.4957 - val_loss: 1.2256 - val_accuracy: 0.6364\n",
      "Epoch 5/15\n",
      "15/15 [==============================] - 261s 18s/step - loss: 0.9950 - accuracy: 0.5577 - val_loss: 1.1064 - val_accuracy: 0.5859\n",
      "Epoch 6/15\n",
      "15/15 [==============================] - 261s 18s/step - loss: 0.9589 - accuracy: 0.5940 - val_loss: 0.8922 - val_accuracy: 0.6313\n",
      "Epoch 7/15\n",
      "15/15 [==============================] - 267s 18s/step - loss: 0.9285 - accuracy: 0.5726 - val_loss: 0.8040 - val_accuracy: 0.6414\n",
      "Epoch 8/15\n",
      "15/15 [==============================] - 263s 18s/step - loss: 0.9456 - accuracy: 0.5299 - val_loss: 0.8847 - val_accuracy: 0.5556\n",
      "Epoch 9/15\n",
      "15/15 [==============================] - 266s 18s/step - loss: 0.8565 - accuracy: 0.5641 - val_loss: 0.8221 - val_accuracy: 0.6616\n",
      "Epoch 10/15\n",
      "15/15 [==============================] - 267s 18s/step - loss: 0.8637 - accuracy: 0.5812 - val_loss: 0.9248 - val_accuracy: 0.6667\n",
      "Epoch 11/15\n",
      "15/15 [==============================] - 269s 18s/step - loss: 0.9096 - accuracy: 0.5556 - val_loss: 0.7378 - val_accuracy: 0.7222\n",
      "Epoch 12/15\n",
      "15/15 [==============================] - 265s 18s/step - loss: 0.8062 - accuracy: 0.6068 - val_loss: 0.9771 - val_accuracy: 0.6667\n",
      "Epoch 13/15\n",
      "15/15 [==============================] - 263s 18s/step - loss: 0.8161 - accuracy: 0.6282 - val_loss: 0.8792 - val_accuracy: 0.5657\n",
      "Epoch 14/15\n",
      "15/15 [==============================] - 264s 18s/step - loss: 0.8759 - accuracy: 0.5726 - val_loss: 1.2043 - val_accuracy: 0.6212\n",
      "Epoch 15/15\n",
      "15/15 [==============================] - 262s 18s/step - loss: 0.9112 - accuracy: 0.5641 - val_loss: 0.7865 - val_accuracy: 0.5606\n"
     ]
    }
   ],
   "source": [
    "# for model_name, model in models.items():\n",
    "#     print(f\"Training {model_name}...\")\n",
    "#     model.fit(train_data, epochs=15, validation_data=val_data, verbose=1)  # Increased the number of epochs\n",
    "\n",
    "for model_name, model in models.items():\n",
    "    print(f\"Training {model_name}...\")\n",
    "    model.fit(train_data, epochs=15, validation_data=val_data, verbose=1, callbacks=[early_stopping, model_checkpoint])  # Added callbacks"
   ]
  },
  {
   "cell_type": "code",
   "execution_count": 11,
   "id": "982e7c26",
   "metadata": {},
   "outputs": [
    {
     "name": "stdout",
     "output_type": "stream",
     "text": [
      "Evaluating InceptionV3...\n",
      "7/7 [==============================] - 92s 11s/step\n",
      "Accuracy: 17.17%\n",
      "F1 Score: 17.05%\n"
     ]
    }
   ],
   "source": [
    "# Evaluate model\n",
    "print(f\"Evaluating {model_name}...\")\n",
    "y_pred = model.predict(val_data)\n",
    "y_pred_classes = np.argmax(y_pred, axis=1)\n",
    "y_true = val_data.classes\n",
    "\n",
    "accuracy = accuracy_score(y_true, y_pred_classes) * 100\n",
    "f1 = f1_score(y_true, y_pred_classes, average='weighted') * 100\n",
    "\n",
    "print(f\"Accuracy: {accuracy:.2f}%\")\n",
    "print(f\"F1 Score: {f1:.2f}%\")"
   ]
  },
  {
   "cell_type": "code",
   "execution_count": 12,
   "id": "6ada0cab",
   "metadata": {},
   "outputs": [
    {
     "data": {
      "image/png": "[encoded data removed]",
      "text/plain": [
       "<Figure size 500x500 with 1 Axes>"
      ]
     },
     "metadata": {},
     "output_type": "display_data"
    }
   ],
   "source": [
    "# Confusion matrix\n",
    "cm = confusion_matrix(y_true, y_pred_classes)\n",
    "plt.figure(figsize=(5, 5))\n",
    "sns.heatmap(cm, annot=True, fmt=\"d\", cmap=\"PuRd\", cbar=False, xticklabels=categories, yticklabels=categories)\n",
    "plt.xlabel(\"Predicted\")\n",
    "plt.ylabel(\"True\")\n",
    "plt.title(f\"Confusion Matrix - {model_name}\")\n",
    "plt.show()\n"
   ]
  },
  {
   "cell_type": "code",
   "execution_count": null,
   "id": "c78eac18",
   "metadata": {},
   "outputs": [],
   "source": []
  }
 ],
 "metadata": {
  "kernelspec": {
   "display_name": "Python 3 (ipykernel)",
   "language": "python",
   "name": "python3"
  },
  "language_info": {
   "codemirror_mode": {
    "name": "ipython",
    "version": 3
   },
   "file_extension": ".py",
   "mimetype": "text/x-python",
   "name": "python",
   "nbconvert_exporter": "python",
   "pygments_lexer": "ipython3",
   "version": "3.11.5"
  }
 },
 "nbformat": 4,
 "nbformat_minor": 5
}
